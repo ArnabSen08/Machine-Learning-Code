{
  "nbformat": 4,
  "nbformat_minor": 0,
  "metadata": {
    "colab": {
      "provenance": [],
      "authorship_tag": "ABX9TyOjlpJV/jYiXdt+iUkGfSCQ",
      "include_colab_link": true
    },
    "kernelspec": {
      "name": "python3",
      "display_name": "Python 3"
    },
    "language_info": {
      "name": "python"
    },
    "widgets": {
      "application/vnd.jupyter.widget-state+json": {
        "3b946740969f4904a62d7d3a369eba45": {
          "model_module": "catboost-widget",
          "model_name": "CatboostWidgetModel",
          "model_module_version": "^1.0.0",
          "state": {
            "_dom_classes": [],
            "_model_module": "catboost-widget",
            "_model_module_version": "^1.0.0",
            "_model_name": "CatboostWidgetModel",
            "_view_count": null,
            "_view_module": "catboost-widget",
            "_view_module_version": "^1.0.0",
            "_view_name": "CatboostWidgetView",
            "data": {
              "catboost_info": {
                "path": "catboost_info",
                "name": "catboost_info",
                "content": {
                  "passed_iterations": 99,
                  "total_iterations": 100,
                  "data": {
                    "iterations": [
                      {
                        "learn": [
                          0.9627329193,
                          0.6724548948
                        ],
                        "iteration": 0,
                        "passed_time": 0.05353524341,
                        "remaining_time": 5.299989097,
                        "test": [
                          0.962962963,
                          0.6726558113
                        ]
                      },
                      {
                        "learn": [
                          0.9875776398,
                          0.6497477924
                        ],
                        "iteration": 1,
                        "passed_time": 0.06353261069,
                        "remaining_time": 3.113097924,
                        "test": [
                          0.9814814815,
                          0.6508673871
                        ]
                      },
                      {
                        "learn": [
                          0.9813664596,
                          0.62890719
                        ],
                        "iteration": 2,
                        "passed_time": 0.06604437692,
                        "remaining_time": 2.135434854,
                        "test": [
                          0.962962963,
                          0.6300213369
                        ]
                      },
                      {
                        "learn": [
                          0.9813664596,
                          0.6104097481
                        ],
                        "iteration": 3,
                        "passed_time": 0.07137827099,
                        "remaining_time": 1.713078504,
                        "test": [
                          0.962962963,
                          0.6125121119
                        ]
                      },
                      {
                        "learn": [
                          0.9875776398,
                          0.5859999406
                        ],
                        "iteration": 4,
                        "passed_time": 0.07464910659,
                        "remaining_time": 1.418333025,
                        "test": [
                          0.9814814815,
                          0.5892335689
                        ]
                      },
                      {
                        "learn": [
                          0.9875776398,
                          0.567695076
                        ],
                        "iteration": 5,
                        "passed_time": 0.07898400483,
                        "remaining_time": 1.237416076,
                        "test": [
                          1,
                          0.57138288
                        ]
                      },
                      {
                        "learn": [
                          1,
                          0.5481127851
                        ],
                        "iteration": 6,
                        "passed_time": 0.08277493974,
                        "remaining_time": 1.099724199,
                        "test": [
                          1,
                          0.5525532224
                        ]
                      },
                      {
                        "learn": [
                          1,
                          0.529500011
                        ],
                        "iteration": 7,
                        "passed_time": 0.08868266771,
                        "remaining_time": 1.019850679,
                        "test": [
                          1,
                          0.5341029341
                        ]
                      },
                      {
                        "learn": [
                          1,
                          0.5136747447
                        ],
                        "iteration": 8,
                        "passed_time": 0.09374599972,
                        "remaining_time": 0.9478762194,
                        "test": [
                          1,
                          0.518123976
                        ]
                      },
                      {
                        "learn": [
                          1,
                          0.4999211095
                        ],
                        "iteration": 9,
                        "passed_time": 0.1207515453,
                        "remaining_time": 1.086763908,
                        "test": [
                          1,
                          0.5052128761
                        ]
                      },
                      {
                        "learn": [
                          1,
                          0.4826995953
                        ],
                        "iteration": 10,
                        "passed_time": 0.1222255416,
                        "remaining_time": 0.988915746,
                        "test": [
                          1,
                          0.4895003975
                        ]
                      },
                      {
                        "learn": [
                          1,
                          0.4691080993
                        ],
                        "iteration": 11,
                        "passed_time": 0.1322254645,
                        "remaining_time": 0.969653406,
                        "test": [
                          1,
                          0.4758780321
                        ]
                      },
                      {
                        "learn": [
                          1,
                          0.4589930529
                        ],
                        "iteration": 12,
                        "passed_time": 0.1354838874,
                        "remaining_time": 0.9066998616,
                        "test": [
                          1,
                          0.4676057925
                        ]
                      },
                      {
                        "learn": [
                          1,
                          0.4409689089
                        ],
                        "iteration": 13,
                        "passed_time": 0.1415811714,
                        "remaining_time": 0.8697129101,
                        "test": [
                          1,
                          0.4496904776
                        ]
                      },
                      {
                        "learn": [
                          1,
                          0.4307348027
                        ],
                        "iteration": 14,
                        "passed_time": 0.1476183325,
                        "remaining_time": 0.8365038841,
                        "test": [
                          1,
                          0.4413803319
                        ]
                      },
                      {
                        "learn": [
                          1,
                          0.4146806814
                        ],
                        "iteration": 15,
                        "passed_time": 0.151423622,
                        "remaining_time": 0.7949740154,
                        "test": [
                          1,
                          0.4267305765
                        ]
                      },
                      {
                        "learn": [
                          1,
                          0.4057065363
                        ],
                        "iteration": 16,
                        "passed_time": 0.1588623814,
                        "remaining_time": 0.7756222152,
                        "test": [
                          1,
                          0.4181080156
                        ]
                      },
                      {
                        "learn": [
                          1,
                          0.3926243559
                        ],
                        "iteration": 17,
                        "passed_time": 0.1601974984,
                        "remaining_time": 0.7297886039,
                        "test": [
                          1,
                          0.4061355401
                        ]
                      },
                      {
                        "learn": [
                          1,
                          0.3793398982
                        ],
                        "iteration": 18,
                        "passed_time": 0.1657559289,
                        "remaining_time": 0.7066436967,
                        "test": [
                          1,
                          0.3924736966
                        ]
                      },
                      {
                        "learn": [
                          1,
                          0.3686802181
                        ],
                        "iteration": 19,
                        "passed_time": 0.1728868272,
                        "remaining_time": 0.6915473089,
                        "test": [
                          1,
                          0.3836267165
                        ]
                      },
                      {
                        "learn": [
                          1,
                          0.3615778548
                        ],
                        "iteration": 20,
                        "passed_time": 0.1772473995,
                        "remaining_time": 0.6667878363,
                        "test": [
                          1,
                          0.3765682414
                        ]
                      },
                      {
                        "learn": [
                          1,
                          0.3515342154
                        ],
                        "iteration": 21,
                        "passed_time": 0.1853372133,
                        "remaining_time": 0.6571046652,
                        "test": [
                          1,
                          0.3670872608
                        ]
                      },
                      {
                        "learn": [
                          1,
                          0.3442740684
                        ],
                        "iteration": 22,
                        "passed_time": 0.1887582663,
                        "remaining_time": 0.6319298481,
                        "test": [
                          1,
                          0.3599355309
                        ]
                      },
                      {
                        "learn": [
                          1,
                          0.3372769782
                        ],
                        "iteration": 23,
                        "passed_time": 0.1916008708,
                        "remaining_time": 0.6067360908,
                        "test": [
                          1,
                          0.3534298268
                        ]
                      },
                      {
                        "learn": [
                          1,
                          0.3246768918
                        ],
                        "iteration": 24,
                        "passed_time": 0.203708965,
                        "remaining_time": 0.611126895,
                        "test": [
                          1,
                          0.3411094653
                        ]
                      },
                      {
                        "learn": [
                          1,
                          0.3150076733
                        ],
                        "iteration": 25,
                        "passed_time": 0.2050778372,
                        "remaining_time": 0.5836830752,
                        "test": [
                          1,
                          0.3325023788
                        ]
                      },
                      {
                        "learn": [
                          1,
                          0.3044850469
                        ],
                        "iteration": 26,
                        "passed_time": 0.2095490111,
                        "remaining_time": 0.5665584373,
                        "test": [
                          1,
                          0.3221462472
                        ]
                      },
                      {
                        "learn": [
                          1,
                          0.2936347515
                        ],
                        "iteration": 27,
                        "passed_time": 0.2170182047,
                        "remaining_time": 0.5580468122,
                        "test": [
                          1,
                          0.3106489292
                        ]
                      },
                      {
                        "learn": [
                          1,
                          0.2852295562
                        ],
                        "iteration": 28,
                        "passed_time": 0.2182853626,
                        "remaining_time": 0.5344227842,
                        "test": [
                          1,
                          0.3022768275
                        ]
                      },
                      {
                        "learn": [
                          1,
                          0.2753441774
                        ],
                        "iteration": 29,
                        "passed_time": 0.221932498,
                        "remaining_time": 0.5178424953,
                        "test": [
                          1,
                          0.2924792495
                        ]
                      },
                      {
                        "learn": [
                          1,
                          0.2693802703
                        ],
                        "iteration": 30,
                        "passed_time": 0.2242945358,
                        "remaining_time": 0.499236225,
                        "test": [
                          1,
                          0.288010003
                        ]
                      },
                      {
                        "learn": [
                          1,
                          0.2579251123
                        ],
                        "iteration": 31,
                        "passed_time": 0.2308794254,
                        "remaining_time": 0.4906187789,
                        "test": [
                          1,
                          0.2762621219
                        ]
                      },
                      {
                        "learn": [
                          1,
                          0.2525086737
                        ],
                        "iteration": 32,
                        "passed_time": 0.2342165273,
                        "remaining_time": 0.4755305252,
                        "test": [
                          1,
                          0.2714807158
                        ]
                      },
                      {
                        "learn": [
                          1,
                          0.2482674044
                        ],
                        "iteration": 33,
                        "passed_time": 0.2410427456,
                        "remaining_time": 0.4679065063,
                        "test": [
                          1,
                          0.2673897454
                        ]
                      },
                      {
                        "learn": [
                          1,
                          0.2417230814
                        ],
                        "iteration": 34,
                        "passed_time": 0.2498002383,
                        "remaining_time": 0.4639147283,
                        "test": [
                          1,
                          0.2600744122
                        ]
                      },
                      {
                        "learn": [
                          1,
                          0.2362109634
                        ],
                        "iteration": 35,
                        "passed_time": 0.2597750507,
                        "remaining_time": 0.4618223124,
                        "test": [
                          1,
                          0.2544260143
                        ]
                      },
                      {
                        "learn": [
                          1,
                          0.2297937408
                        ],
                        "iteration": 36,
                        "passed_time": 0.2612015077,
                        "remaining_time": 0.4447485131,
                        "test": [
                          1,
                          0.247650195
                        ]
                      },
                      {
                        "learn": [
                          1,
                          0.2268195271
                        ],
                        "iteration": 37,
                        "passed_time": 0.2680307015,
                        "remaining_time": 0.4373132499,
                        "test": [
                          1,
                          0.245632539
                        ]
                      },
                      {
                        "learn": [
                          1,
                          0.2208019101
                        ],
                        "iteration": 38,
                        "passed_time": 0.2693954159,
                        "remaining_time": 0.4213620608,
                        "test": [
                          1,
                          0.2397705251
                        ]
                      },
                      {
                        "learn": [
                          1,
                          0.2144696645
                        ],
                        "iteration": 39,
                        "passed_time": 0.2761979625,
                        "remaining_time": 0.4142969437,
                        "test": [
                          1,
                          0.233810612
                        ]
                      },
                      {
                        "learn": [
                          1,
                          0.2093122976
                        ],
                        "iteration": 40,
                        "passed_time": 0.2800492859,
                        "remaining_time": 0.4029977528,
                        "test": [
                          1,
                          0.2290398433
                        ]
                      },
                      {
                        "learn": [
                          1,
                          0.2061743647
                        ],
                        "iteration": 41,
                        "passed_time": 0.2841064495,
                        "remaining_time": 0.3923374779,
                        "test": [
                          1,
                          0.2265976245
                        ]
                      },
                      {
                        "learn": [
                          1,
                          0.2027701308
                        ],
                        "iteration": 42,
                        "passed_time": 0.288367817,
                        "remaining_time": 0.3822550133,
                        "test": [
                          1,
                          0.2233148811
                        ]
                      },
                      {
                        "learn": [
                          1,
                          0.1984835735
                        ],
                        "iteration": 43,
                        "passed_time": 0.2903163661,
                        "remaining_time": 0.3694935568,
                        "test": [
                          1,
                          0.2188505403
                        ]
                      },
                      {
                        "learn": [
                          1,
                          0.194491519
                        ],
                        "iteration": 44,
                        "passed_time": 0.2954159121,
                        "remaining_time": 0.3610638925,
                        "test": [
                          1,
                          0.2146385787
                        ]
                      },
                      {
                        "learn": [
                          1,
                          0.1915700817
                        ],
                        "iteration": 45,
                        "passed_time": 0.2992300987,
                        "remaining_time": 0.3512701159,
                        "test": [
                          1,
                          0.2118027831
                        ]
                      },
                      {
                        "learn": [
                          1,
                          0.1882756257
                        ],
                        "iteration": 46,
                        "passed_time": 0.3033386809,
                        "remaining_time": 0.3420627679,
                        "test": [
                          1,
                          0.2087001881
                        ]
                      },
                      {
                        "learn": [
                          1,
                          0.1844619777
                        ],
                        "iteration": 47,
                        "passed_time": 0.3070593625,
                        "remaining_time": 0.3326476427,
                        "test": [
                          1,
                          0.2052680357
                        ]
                      },
                      {
                        "learn": [
                          1,
                          0.1807398944
                        ],
                        "iteration": 48,
                        "passed_time": 0.3090048024,
                        "remaining_time": 0.3216172433,
                        "test": [
                          1,
                          0.2018789582
                        ]
                      },
                      {
                        "learn": [
                          1,
                          0.1768201385
                        ],
                        "iteration": 49,
                        "passed_time": 0.3110304464,
                        "remaining_time": 0.3110304464,
                        "test": [
                          1,
                          0.1979793272
                        ]
                      },
                      {
                        "learn": [
                          1,
                          0.1731595995
                        ],
                        "iteration": 50,
                        "passed_time": 0.3150296694,
                        "remaining_time": 0.3026755647,
                        "test": [
                          1,
                          0.194475551
                        ]
                      },
                      {
                        "learn": [
                          1,
                          0.1682665148
                        ],
                        "iteration": 51,
                        "passed_time": 0.3198933054,
                        "remaining_time": 0.2952861281,
                        "test": [
                          1,
                          0.1888496901
                        ]
                      },
                      {
                        "learn": [
                          1,
                          0.1650361371
                        ],
                        "iteration": 52,
                        "passed_time": 0.3242465397,
                        "remaining_time": 0.2875393843,
                        "test": [
                          1,
                          0.1860060917
                        ]
                      },
                      {
                        "learn": [
                          1,
                          0.1635093598
                        ],
                        "iteration": 53,
                        "passed_time": 0.3266429347,
                        "remaining_time": 0.2782513888,
                        "test": [
                          1,
                          0.1848781022
                        ]
                      },
                      {
                        "learn": [
                          1,
                          0.1613983269
                        ],
                        "iteration": 54,
                        "passed_time": 0.3337271155,
                        "remaining_time": 0.2730494582,
                        "test": [
                          1,
                          0.1828741769
                        ]
                      },
                      {
                        "learn": [
                          1,
                          0.15655457
                        ],
                        "iteration": 55,
                        "passed_time": 0.3375591355,
                        "remaining_time": 0.265225035,
                        "test": [
                          1,
                          0.1769687084
                        ]
                      },
                      {
                        "learn": [
                          1,
                          0.153373379
                        ],
                        "iteration": 56,
                        "passed_time": 0.3396320625,
                        "remaining_time": 0.2562136612,
                        "test": [
                          1,
                          0.1740389591
                        ]
                      },
                      {
                        "learn": [
                          1,
                          0.1507549705
                        ],
                        "iteration": 57,
                        "passed_time": 0.345965622,
                        "remaining_time": 0.2505268297,
                        "test": [
                          1,
                          0.1712835157
                        ]
                      },
                      {
                        "learn": [
                          1,
                          0.1459079207
                        ],
                        "iteration": 58,
                        "passed_time": 0.349260138,
                        "remaining_time": 0.2427061976,
                        "test": [
                          1,
                          0.1662343539
                        ]
                      },
                      {
                        "learn": [
                          1,
                          0.1438815376
                        ],
                        "iteration": 59,
                        "passed_time": 0.3579810403,
                        "remaining_time": 0.2386540268,
                        "test": [
                          1,
                          0.164500091
                        ]
                      },
                      {
                        "learn": [
                          1,
                          0.1403108012
                        ],
                        "iteration": 60,
                        "passed_time": 0.3596168876,
                        "remaining_time": 0.2299189937,
                        "test": [
                          1,
                          0.1607290752
                        ]
                      },
                      {
                        "learn": [
                          1,
                          0.1364576502
                        ],
                        "iteration": 61,
                        "passed_time": 0.3679970996,
                        "remaining_time": 0.2255466094,
                        "test": [
                          1,
                          0.1565405342
                        ]
                      },
                      {
                        "learn": [
                          1,
                          0.133505294
                        ],
                        "iteration": 62,
                        "passed_time": 0.3696684895,
                        "remaining_time": 0.2171068907,
                        "test": [
                          1,
                          0.1530257091
                        ]
                      },
                      {
                        "learn": [
                          1,
                          0.1309572886
                        ],
                        "iteration": 63,
                        "passed_time": 0.3755111584,
                        "remaining_time": 0.2112250266,
                        "test": [
                          1,
                          0.1506565067
                        ]
                      },
                      {
                        "learn": [
                          1,
                          0.128868532
                        ],
                        "iteration": 64,
                        "passed_time": 0.3777011858,
                        "remaining_time": 0.2033775616,
                        "test": [
                          1,
                          0.1483633713
                        ]
                      },
                      {
                        "learn": [
                          1,
                          0.1259516199
                        ],
                        "iteration": 65,
                        "passed_time": 0.3861931993,
                        "remaining_time": 0.1989480118,
                        "test": [
                          1,
                          0.1452879558
                        ]
                      },
                      {
                        "learn": [
                          1,
                          0.1238430255
                        ],
                        "iteration": 66,
                        "passed_time": 0.3934275199,
                        "remaining_time": 0.1937777337,
                        "test": [
                          1,
                          0.1430460509
                        ]
                      },
                      {
                        "learn": [
                          1,
                          0.122136039
                        ],
                        "iteration": 67,
                        "passed_time": 0.3999826352,
                        "remaining_time": 0.1882271224,
                        "test": [
                          1,
                          0.141355987
                        ]
                      },
                      {
                        "learn": [
                          1,
                          0.120363049
                        ],
                        "iteration": 68,
                        "passed_time": 0.4029082989,
                        "remaining_time": 0.181016772,
                        "test": [
                          1,
                          0.1395016204
                        ]
                      },
                      {
                        "learn": [
                          1,
                          0.1188913619
                        ],
                        "iteration": 69,
                        "passed_time": 0.4052600082,
                        "remaining_time": 0.1736828607,
                        "test": [
                          1,
                          0.1382596976
                        ]
                      },
                      {
                        "learn": [
                          1,
                          0.1172561851
                        ],
                        "iteration": 70,
                        "passed_time": 0.4082393301,
                        "remaining_time": 0.1667456419,
                        "test": [
                          1,
                          0.1365986743
                        ]
                      },
                      {
                        "learn": [
                          1,
                          0.1151545799
                        ],
                        "iteration": 71,
                        "passed_time": 0.412696624,
                        "remaining_time": 0.1604931315,
                        "test": [
                          1,
                          0.134426413
                        ]
                      },
                      {
                        "learn": [
                          1,
                          0.1127362687
                        ],
                        "iteration": 72,
                        "passed_time": 0.4231932376,
                        "remaining_time": 0.1565235262,
                        "test": [
                          1,
                          0.1318755838
                        ]
                      },
                      {
                        "learn": [
                          1,
                          0.1107350437
                        ],
                        "iteration": 73,
                        "passed_time": 0.4263463914,
                        "remaining_time": 0.1497973808,
                        "test": [
                          1,
                          0.1294462168
                        ]
                      },
                      {
                        "learn": [
                          1,
                          0.1090240715
                        ],
                        "iteration": 74,
                        "passed_time": 0.4341627348,
                        "remaining_time": 0.1447209116,
                        "test": [
                          1,
                          0.1274425774
                        ]
                      },
                      {
                        "learn": [
                          1,
                          0.10680573
                        ],
                        "iteration": 75,
                        "passed_time": 0.4387332348,
                        "remaining_time": 0.1385473373,
                        "test": [
                          1,
                          0.1248715025
                        ]
                      },
                      {
                        "learn": [
                          1,
                          0.1053207154
                        ],
                        "iteration": 76,
                        "passed_time": 0.4438177907,
                        "remaining_time": 0.1325689505,
                        "test": [
                          1,
                          0.1233562242
                        ]
                      },
                      {
                        "learn": [
                          1,
                          0.1035201179
                        ],
                        "iteration": 77,
                        "passed_time": 0.4451592652,
                        "remaining_time": 0.1255577415,
                        "test": [
                          1,
                          0.1213988771
                        ]
                      },
                      {
                        "learn": [
                          1,
                          0.1016353131
                        ],
                        "iteration": 78,
                        "passed_time": 0.4488187133,
                        "remaining_time": 0.1193062402,
                        "test": [
                          1,
                          0.1194924478
                        ]
                      },
                      {
                        "learn": [
                          1,
                          0.09994032861
                        ],
                        "iteration": 79,
                        "passed_time": 0.4500889907,
                        "remaining_time": 0.1125222477,
                        "test": [
                          1,
                          0.1175494567
                        ]
                      },
                      {
                        "learn": [
                          1,
                          0.09852685655
                        ],
                        "iteration": 80,
                        "passed_time": 0.4533381797,
                        "remaining_time": 0.1063385854,
                        "test": [
                          1,
                          0.1159869368
                        ]
                      },
                      {
                        "learn": [
                          1,
                          0.09727963838
                        ],
                        "iteration": 81,
                        "passed_time": 0.4581206893,
                        "remaining_time": 0.1005630781,
                        "test": [
                          1,
                          0.1145169561
                        ]
                      },
                      {
                        "learn": [
                          1,
                          0.09546319925
                        ],
                        "iteration": 82,
                        "passed_time": 0.46092171,
                        "remaining_time": 0.09440565145,
                        "test": [
                          1,
                          0.1129687084
                        ]
                      },
                      {
                        "learn": [
                          1,
                          0.09418266222
                        ],
                        "iteration": 83,
                        "passed_time": 0.4630163637,
                        "remaining_time": 0.08819359308,
                        "test": [
                          1,
                          0.1116741385
                        ]
                      },
                      {
                        "learn": [
                          1,
                          0.09347706156
                        ],
                        "iteration": 84,
                        "passed_time": 0.4664184206,
                        "remaining_time": 0.08230913305,
                        "test": [
                          1,
                          0.1111052077
                        ]
                      },
                      {
                        "learn": [
                          1,
                          0.09190607583
                        ],
                        "iteration": 85,
                        "passed_time": 0.4683115537,
                        "remaining_time": 0.07623676455,
                        "test": [
                          1,
                          0.1093260792
                        ]
                      },
                      {
                        "learn": [
                          1,
                          0.09068184132
                        ],
                        "iteration": 86,
                        "passed_time": 0.4722507783,
                        "remaining_time": 0.07056620825,
                        "test": [
                          1,
                          0.107971132
                        ]
                      },
                      {
                        "learn": [
                          1,
                          0.0896925475
                        ],
                        "iteration": 87,
                        "passed_time": 0.4755309601,
                        "remaining_time": 0.06484513092,
                        "test": [
                          1,
                          0.1069520344
                        ]
                      },
                      {
                        "learn": [
                          1,
                          0.08851802017
                        ],
                        "iteration": 88,
                        "passed_time": 0.4806124664,
                        "remaining_time": 0.05940154079,
                        "test": [
                          1,
                          0.1055219757
                        ]
                      },
                      {
                        "learn": [
                          1,
                          0.0869076775
                        ],
                        "iteration": 89,
                        "passed_time": 0.4820783474,
                        "remaining_time": 0.05356426082,
                        "test": [
                          1,
                          0.1038736432
                        ]
                      },
                      {
                        "learn": [
                          1,
                          0.08519074115
                        ],
                        "iteration": 90,
                        "passed_time": 0.4840842512,
                        "remaining_time": 0.0478764644,
                        "test": [
                          1,
                          0.1021898195
                        ]
                      },
                      {
                        "learn": [
                          1,
                          0.0836228842
                        ],
                        "iteration": 91,
                        "passed_time": 0.4869894428,
                        "remaining_time": 0.04234690807,
                        "test": [
                          1,
                          0.100205142
                        ]
                      },
                      {
                        "learn": [
                          1,
                          0.08212438208
                        ],
                        "iteration": 92,
                        "passed_time": 0.4884345736,
                        "remaining_time": 0.03676389264,
                        "test": [
                          1,
                          0.098758575
                        ]
                      },
                      {
                        "learn": [
                          1,
                          0.08036772071
                        ],
                        "iteration": 93,
                        "passed_time": 0.4891287189,
                        "remaining_time": 0.03122098206,
                        "test": [
                          1,
                          0.09667867785
                        ]
                      },
                      {
                        "learn": [
                          1,
                          0.07923848984
                        ],
                        "iteration": 94,
                        "passed_time": 0.4904524855,
                        "remaining_time": 0.02581328871,
                        "test": [
                          1,
                          0.09546244419
                        ]
                      },
                      {
                        "learn": [
                          1,
                          0.07856267265
                        ],
                        "iteration": 95,
                        "passed_time": 0.492034636,
                        "remaining_time": 0.02050144317,
                        "test": [
                          1,
                          0.09476121967
                        ]
                      },
                      {
                        "learn": [
                          1,
                          0.07637188755
                        ],
                        "iteration": 96,
                        "passed_time": 0.4928968362,
                        "remaining_time": 0.01524423205,
                        "test": [
                          1,
                          0.09217290377
                        ]
                      },
                      {
                        "learn": [
                          1,
                          0.07571401287
                        ],
                        "iteration": 97,
                        "passed_time": 0.4944870397,
                        "remaining_time": 0.01009157224,
                        "test": [
                          1,
                          0.09141482697
                        ]
                      },
                      {
                        "learn": [
                          1,
                          0.07504690102
                        ],
                        "iteration": 98,
                        "passed_time": 0.4961294273,
                        "remaining_time": 0.005011408357,
                        "test": [
                          1,
                          0.09061433298
                        ]
                      },
                      {
                        "learn": [
                          1,
                          0.07386133495
                        ],
                        "iteration": 99,
                        "passed_time": 0.4978235781,
                        "remaining_time": 0,
                        "test": [
                          1,
                          0.0892065663
                        ]
                      }
                    ],
                    "meta": {
                      "test_sets": [
                        "test"
                      ],
                      "test_metrics": [
                        {
                          "best_value": "Max",
                          "name": "Accuracy"
                        },
                        {
                          "best_value": "Min",
                          "name": "Logloss"
                        }
                      ],
                      "learn_metrics": [
                        {
                          "best_value": "Max",
                          "name": "Accuracy"
                        },
                        {
                          "best_value": "Min",
                          "name": "Logloss"
                        }
                      ],
                      "launch_mode": "Train",
                      "parameters": "",
                      "iteration_count": 100,
                      "learn_sets": [
                        "learn"
                      ],
                      "name": "experiment"
                    }
                  }
                }
              }
            },
            "layout": "IPY_MODEL_0fa54979aac248fb95c887c96a5ed671"
          }
        }
      }
    }
  },
  "cells": [
    {
      "cell_type": "markdown",
      "metadata": {
        "id": "view-in-github",
        "colab_type": "text"
      },
      "source": [
        "<a href=\"https://colab.research.google.com/github/ArnabSen08/Machine-Learning-Code/blob/main/CatBoostClassifier_Model_implementation.ipynb\" target=\"_parent\"><img src=\"https://colab.research.google.com/assets/colab-badge.svg\" alt=\"Open In Colab\"/></a>"
      ]
    },
    {
      "cell_type": "code",
      "execution_count": 1,
      "metadata": {
        "colab": {
          "base_uri": "https://localhost:8080/"
        },
        "id": "tv6W1zDuxcQ9",
        "outputId": "7ffbb0d3-a62f-4546-cbc4-fc69742100f8"
      },
      "outputs": [
        {
          "output_type": "stream",
          "name": "stdout",
          "text": [
            "  Preparing metadata (setup.py) ... \u001b[?25l\u001b[?25hdone\n",
            "\u001b[2K     \u001b[90m━━━━━━━━━━━━━━━━━━━━━━━━━━━━━━━━━━━━━━━━\u001b[0m \u001b[32m76.6/76.6 MB\u001b[0m \u001b[31m9.0 MB/s\u001b[0m eta \u001b[36m0:00:00\u001b[0m\n",
            "\u001b[2K     \u001b[90m━━━━━━━━━━━━━━━━━━━━━━━━━━━━━━━━━━━━━━━━\u001b[0m \u001b[32m1.6/1.6 MB\u001b[0m \u001b[31m40.3 MB/s\u001b[0m eta \u001b[36m0:00:00\u001b[0m\n",
            "\u001b[?25h  Building wheel for sklearn (setup.py) ... \u001b[?25l\u001b[?25hdone\n"
          ]
        }
      ],
      "source": [
        "!pip install pip --user -q --no-warn-script-location\n",
        "!pip install numpy pandas sklearn matplotlib catboost ipywidgets --user -q --no-warn-script-location"
      ]
    },
    {
      "cell_type": "code",
      "source": [
        "import IPython\n",
        "IPython.Application.instance().kernel.do_shutdown(True)"
      ],
      "metadata": {
        "colab": {
          "base_uri": "https://localhost:8080/"
        },
        "id": "gNNEWlVKxm4k",
        "outputId": "08b351ab-7235-47da-8eb3-a9c8028d28fc"
      },
      "execution_count": 2,
      "outputs": [
        {
          "output_type": "execute_result",
          "data": {
            "text/plain": [
              "{'status': 'ok', 'restart': True}"
            ]
          },
          "metadata": {},
          "execution_count": 2
        }
      ]
    },
    {
      "cell_type": "code",
      "source": [
        "import catboost as ct\n",
        "import numpy as np\n",
        "import pandas as pd\n",
        "import matplotlib.pyplot as plt"
      ],
      "metadata": {
        "id": "yRlW6bzYx3bx"
      },
      "execution_count": 1,
      "outputs": []
    },
    {
      "cell_type": "code",
      "source": [
        "df=pd.read_csv('https://raw.githubusercontent.com/analyticsindiamagazine/MocksDatasets/main/Placement_Data.csv') ## reading the data"
      ],
      "metadata": {
        "id": "ya9tZWcpx9ND"
      },
      "execution_count": 2,
      "outputs": []
    },
    {
      "cell_type": "code",
      "source": [
        "df.head()"
      ],
      "metadata": {
        "colab": {
          "base_uri": "https://localhost:8080/",
          "height": 287
        },
        "id": "z_4sLZPMyAKE",
        "outputId": "1d946027-05e5-405c-fe58-fe42dccef3c7"
      },
      "execution_count": 3,
      "outputs": [
        {
          "output_type": "execute_result",
          "data": {
            "text/plain": [
              "   sl_no gender  ssc_p    ssc_b  hsc_p    hsc_b     hsc_s  degree_p  \\\n",
              "0      1      M  67.00   Others  91.00   Others  Commerce     58.00   \n",
              "1      2      M  79.33  Central  78.33   Others   Science     77.48   \n",
              "2      3      M  65.00  Central  68.00  Central      Arts     64.00   \n",
              "3      4      M  56.00  Central  52.00  Central   Science     52.00   \n",
              "4      5      M  85.80  Central  73.60  Central  Commerce     73.30   \n",
              "\n",
              "    degree_t workex  etest_p specialisation  mba_p      status    salary  \n",
              "0   Sci&Tech     No     55.0         Mkt&HR  58.80      Placed  270000.0  \n",
              "1   Sci&Tech    Yes     86.5        Mkt&Fin  66.28      Placed  200000.0  \n",
              "2  Comm&Mgmt     No     75.0        Mkt&Fin  57.80      Placed  250000.0  \n",
              "3   Sci&Tech     No     66.0         Mkt&HR  59.43  Not Placed       NaN  \n",
              "4  Comm&Mgmt     No     96.8        Mkt&Fin  55.50      Placed  425000.0  "
            ],
            "text/html": [
              "\n",
              "  <div id=\"df-4375a0a6-3aaf-40f1-a083-28cb1983ea3c\">\n",
              "    <div class=\"colab-df-container\">\n",
              "      <div>\n",
              "<style scoped>\n",
              "    .dataframe tbody tr th:only-of-type {\n",
              "        vertical-align: middle;\n",
              "    }\n",
              "\n",
              "    .dataframe tbody tr th {\n",
              "        vertical-align: top;\n",
              "    }\n",
              "\n",
              "    .dataframe thead th {\n",
              "        text-align: right;\n",
              "    }\n",
              "</style>\n",
              "<table border=\"1\" class=\"dataframe\">\n",
              "  <thead>\n",
              "    <tr style=\"text-align: right;\">\n",
              "      <th></th>\n",
              "      <th>sl_no</th>\n",
              "      <th>gender</th>\n",
              "      <th>ssc_p</th>\n",
              "      <th>ssc_b</th>\n",
              "      <th>hsc_p</th>\n",
              "      <th>hsc_b</th>\n",
              "      <th>hsc_s</th>\n",
              "      <th>degree_p</th>\n",
              "      <th>degree_t</th>\n",
              "      <th>workex</th>\n",
              "      <th>etest_p</th>\n",
              "      <th>specialisation</th>\n",
              "      <th>mba_p</th>\n",
              "      <th>status</th>\n",
              "      <th>salary</th>\n",
              "    </tr>\n",
              "  </thead>\n",
              "  <tbody>\n",
              "    <tr>\n",
              "      <th>0</th>\n",
              "      <td>1</td>\n",
              "      <td>M</td>\n",
              "      <td>67.00</td>\n",
              "      <td>Others</td>\n",
              "      <td>91.00</td>\n",
              "      <td>Others</td>\n",
              "      <td>Commerce</td>\n",
              "      <td>58.00</td>\n",
              "      <td>Sci&amp;Tech</td>\n",
              "      <td>No</td>\n",
              "      <td>55.0</td>\n",
              "      <td>Mkt&amp;HR</td>\n",
              "      <td>58.80</td>\n",
              "      <td>Placed</td>\n",
              "      <td>270000.0</td>\n",
              "    </tr>\n",
              "    <tr>\n",
              "      <th>1</th>\n",
              "      <td>2</td>\n",
              "      <td>M</td>\n",
              "      <td>79.33</td>\n",
              "      <td>Central</td>\n",
              "      <td>78.33</td>\n",
              "      <td>Others</td>\n",
              "      <td>Science</td>\n",
              "      <td>77.48</td>\n",
              "      <td>Sci&amp;Tech</td>\n",
              "      <td>Yes</td>\n",
              "      <td>86.5</td>\n",
              "      <td>Mkt&amp;Fin</td>\n",
              "      <td>66.28</td>\n",
              "      <td>Placed</td>\n",
              "      <td>200000.0</td>\n",
              "    </tr>\n",
              "    <tr>\n",
              "      <th>2</th>\n",
              "      <td>3</td>\n",
              "      <td>M</td>\n",
              "      <td>65.00</td>\n",
              "      <td>Central</td>\n",
              "      <td>68.00</td>\n",
              "      <td>Central</td>\n",
              "      <td>Arts</td>\n",
              "      <td>64.00</td>\n",
              "      <td>Comm&amp;Mgmt</td>\n",
              "      <td>No</td>\n",
              "      <td>75.0</td>\n",
              "      <td>Mkt&amp;Fin</td>\n",
              "      <td>57.80</td>\n",
              "      <td>Placed</td>\n",
              "      <td>250000.0</td>\n",
              "    </tr>\n",
              "    <tr>\n",
              "      <th>3</th>\n",
              "      <td>4</td>\n",
              "      <td>M</td>\n",
              "      <td>56.00</td>\n",
              "      <td>Central</td>\n",
              "      <td>52.00</td>\n",
              "      <td>Central</td>\n",
              "      <td>Science</td>\n",
              "      <td>52.00</td>\n",
              "      <td>Sci&amp;Tech</td>\n",
              "      <td>No</td>\n",
              "      <td>66.0</td>\n",
              "      <td>Mkt&amp;HR</td>\n",
              "      <td>59.43</td>\n",
              "      <td>Not Placed</td>\n",
              "      <td>NaN</td>\n",
              "    </tr>\n",
              "    <tr>\n",
              "      <th>4</th>\n",
              "      <td>5</td>\n",
              "      <td>M</td>\n",
              "      <td>85.80</td>\n",
              "      <td>Central</td>\n",
              "      <td>73.60</td>\n",
              "      <td>Central</td>\n",
              "      <td>Commerce</td>\n",
              "      <td>73.30</td>\n",
              "      <td>Comm&amp;Mgmt</td>\n",
              "      <td>No</td>\n",
              "      <td>96.8</td>\n",
              "      <td>Mkt&amp;Fin</td>\n",
              "      <td>55.50</td>\n",
              "      <td>Placed</td>\n",
              "      <td>425000.0</td>\n",
              "    </tr>\n",
              "  </tbody>\n",
              "</table>\n",
              "</div>\n",
              "      <button class=\"colab-df-convert\" onclick=\"convertToInteractive('df-4375a0a6-3aaf-40f1-a083-28cb1983ea3c')\"\n",
              "              title=\"Convert this dataframe to an interactive table.\"\n",
              "              style=\"display:none;\">\n",
              "        \n",
              "  <svg xmlns=\"http://www.w3.org/2000/svg\" height=\"24px\"viewBox=\"0 0 24 24\"\n",
              "       width=\"24px\">\n",
              "    <path d=\"M0 0h24v24H0V0z\" fill=\"none\"/>\n",
              "    <path d=\"M18.56 5.44l.94 2.06.94-2.06 2.06-.94-2.06-.94-.94-2.06-.94 2.06-2.06.94zm-11 1L8.5 8.5l.94-2.06 2.06-.94-2.06-.94L8.5 2.5l-.94 2.06-2.06.94zm10 10l.94 2.06.94-2.06 2.06-.94-2.06-.94-.94-2.06-.94 2.06-2.06.94z\"/><path d=\"M17.41 7.96l-1.37-1.37c-.4-.4-.92-.59-1.43-.59-.52 0-1.04.2-1.43.59L10.3 9.45l-7.72 7.72c-.78.78-.78 2.05 0 2.83L4 21.41c.39.39.9.59 1.41.59.51 0 1.02-.2 1.41-.59l7.78-7.78 2.81-2.81c.8-.78.8-2.07 0-2.86zM5.41 20L4 18.59l7.72-7.72 1.47 1.35L5.41 20z\"/>\n",
              "  </svg>\n",
              "      </button>\n",
              "      \n",
              "  <style>\n",
              "    .colab-df-container {\n",
              "      display:flex;\n",
              "      flex-wrap:wrap;\n",
              "      gap: 12px;\n",
              "    }\n",
              "\n",
              "    .colab-df-convert {\n",
              "      background-color: #E8F0FE;\n",
              "      border: none;\n",
              "      border-radius: 50%;\n",
              "      cursor: pointer;\n",
              "      display: none;\n",
              "      fill: #1967D2;\n",
              "      height: 32px;\n",
              "      padding: 0 0 0 0;\n",
              "      width: 32px;\n",
              "    }\n",
              "\n",
              "    .colab-df-convert:hover {\n",
              "      background-color: #E2EBFA;\n",
              "      box-shadow: 0px 1px 2px rgba(60, 64, 67, 0.3), 0px 1px 3px 1px rgba(60, 64, 67, 0.15);\n",
              "      fill: #174EA6;\n",
              "    }\n",
              "\n",
              "    [theme=dark] .colab-df-convert {\n",
              "      background-color: #3B4455;\n",
              "      fill: #D2E3FC;\n",
              "    }\n",
              "\n",
              "    [theme=dark] .colab-df-convert:hover {\n",
              "      background-color: #434B5C;\n",
              "      box-shadow: 0px 1px 3px 1px rgba(0, 0, 0, 0.15);\n",
              "      filter: drop-shadow(0px 1px 2px rgba(0, 0, 0, 0.3));\n",
              "      fill: #FFFFFF;\n",
              "    }\n",
              "  </style>\n",
              "\n",
              "      <script>\n",
              "        const buttonEl =\n",
              "          document.querySelector('#df-4375a0a6-3aaf-40f1-a083-28cb1983ea3c button.colab-df-convert');\n",
              "        buttonEl.style.display =\n",
              "          google.colab.kernel.accessAllowed ? 'block' : 'none';\n",
              "\n",
              "        async function convertToInteractive(key) {\n",
              "          const element = document.querySelector('#df-4375a0a6-3aaf-40f1-a083-28cb1983ea3c');\n",
              "          const dataTable =\n",
              "            await google.colab.kernel.invokeFunction('convertToInteractive',\n",
              "                                                     [key], {});\n",
              "          if (!dataTable) return;\n",
              "\n",
              "          const docLinkHtml = 'Like what you see? Visit the ' +\n",
              "            '<a target=\"_blank\" href=https://colab.research.google.com/notebooks/data_table.ipynb>data table notebook</a>'\n",
              "            + ' to learn more about interactive tables.';\n",
              "          element.innerHTML = '';\n",
              "          dataTable['output_type'] = 'display_data';\n",
              "          await google.colab.output.renderOutput(dataTable, element);\n",
              "          const docLink = document.createElement('div');\n",
              "          docLink.innerHTML = docLinkHtml;\n",
              "          element.appendChild(docLink);\n",
              "        }\n",
              "      </script>\n",
              "    </div>\n",
              "  </div>\n",
              "  "
            ]
          },
          "metadata": {},
          "execution_count": 3
        }
      ]
    },
    {
      "cell_type": "code",
      "source": [
        "df.tail()"
      ],
      "metadata": {
        "colab": {
          "base_uri": "https://localhost:8080/",
          "height": 287
        },
        "id": "yj5QzNjZyCwl",
        "outputId": "2591ed46-e30c-4bf7-f87f-d7800ed63f73"
      },
      "execution_count": 4,
      "outputs": [
        {
          "output_type": "execute_result",
          "data": {
            "text/plain": [
              "     sl_no gender  ssc_p    ssc_b  hsc_p   hsc_b     hsc_s  degree_p  \\\n",
              "210    211      M   80.6   Others   82.0  Others  Commerce      77.6   \n",
              "211    212      M   58.0   Others   60.0  Others   Science      72.0   \n",
              "212    213      M   67.0   Others   67.0  Others  Commerce      73.0   \n",
              "213    214      F   74.0   Others   66.0  Others  Commerce      58.0   \n",
              "214    215      M   62.0  Central   58.0  Others   Science      53.0   \n",
              "\n",
              "      degree_t workex  etest_p specialisation  mba_p      status    salary  \n",
              "210  Comm&Mgmt     No     91.0        Mkt&Fin  74.49      Placed  400000.0  \n",
              "211   Sci&Tech     No     74.0        Mkt&Fin  53.62      Placed  275000.0  \n",
              "212  Comm&Mgmt    Yes     59.0        Mkt&Fin  69.72      Placed  295000.0  \n",
              "213  Comm&Mgmt     No     70.0         Mkt&HR  60.23      Placed  204000.0  \n",
              "214  Comm&Mgmt     No     89.0         Mkt&HR  60.22  Not Placed       NaN  "
            ],
            "text/html": [
              "\n",
              "  <div id=\"df-d05570ba-583f-4e5d-99e9-2adb673aaabe\">\n",
              "    <div class=\"colab-df-container\">\n",
              "      <div>\n",
              "<style scoped>\n",
              "    .dataframe tbody tr th:only-of-type {\n",
              "        vertical-align: middle;\n",
              "    }\n",
              "\n",
              "    .dataframe tbody tr th {\n",
              "        vertical-align: top;\n",
              "    }\n",
              "\n",
              "    .dataframe thead th {\n",
              "        text-align: right;\n",
              "    }\n",
              "</style>\n",
              "<table border=\"1\" class=\"dataframe\">\n",
              "  <thead>\n",
              "    <tr style=\"text-align: right;\">\n",
              "      <th></th>\n",
              "      <th>sl_no</th>\n",
              "      <th>gender</th>\n",
              "      <th>ssc_p</th>\n",
              "      <th>ssc_b</th>\n",
              "      <th>hsc_p</th>\n",
              "      <th>hsc_b</th>\n",
              "      <th>hsc_s</th>\n",
              "      <th>degree_p</th>\n",
              "      <th>degree_t</th>\n",
              "      <th>workex</th>\n",
              "      <th>etest_p</th>\n",
              "      <th>specialisation</th>\n",
              "      <th>mba_p</th>\n",
              "      <th>status</th>\n",
              "      <th>salary</th>\n",
              "    </tr>\n",
              "  </thead>\n",
              "  <tbody>\n",
              "    <tr>\n",
              "      <th>210</th>\n",
              "      <td>211</td>\n",
              "      <td>M</td>\n",
              "      <td>80.6</td>\n",
              "      <td>Others</td>\n",
              "      <td>82.0</td>\n",
              "      <td>Others</td>\n",
              "      <td>Commerce</td>\n",
              "      <td>77.6</td>\n",
              "      <td>Comm&amp;Mgmt</td>\n",
              "      <td>No</td>\n",
              "      <td>91.0</td>\n",
              "      <td>Mkt&amp;Fin</td>\n",
              "      <td>74.49</td>\n",
              "      <td>Placed</td>\n",
              "      <td>400000.0</td>\n",
              "    </tr>\n",
              "    <tr>\n",
              "      <th>211</th>\n",
              "      <td>212</td>\n",
              "      <td>M</td>\n",
              "      <td>58.0</td>\n",
              "      <td>Others</td>\n",
              "      <td>60.0</td>\n",
              "      <td>Others</td>\n",
              "      <td>Science</td>\n",
              "      <td>72.0</td>\n",
              "      <td>Sci&amp;Tech</td>\n",
              "      <td>No</td>\n",
              "      <td>74.0</td>\n",
              "      <td>Mkt&amp;Fin</td>\n",
              "      <td>53.62</td>\n",
              "      <td>Placed</td>\n",
              "      <td>275000.0</td>\n",
              "    </tr>\n",
              "    <tr>\n",
              "      <th>212</th>\n",
              "      <td>213</td>\n",
              "      <td>M</td>\n",
              "      <td>67.0</td>\n",
              "      <td>Others</td>\n",
              "      <td>67.0</td>\n",
              "      <td>Others</td>\n",
              "      <td>Commerce</td>\n",
              "      <td>73.0</td>\n",
              "      <td>Comm&amp;Mgmt</td>\n",
              "      <td>Yes</td>\n",
              "      <td>59.0</td>\n",
              "      <td>Mkt&amp;Fin</td>\n",
              "      <td>69.72</td>\n",
              "      <td>Placed</td>\n",
              "      <td>295000.0</td>\n",
              "    </tr>\n",
              "    <tr>\n",
              "      <th>213</th>\n",
              "      <td>214</td>\n",
              "      <td>F</td>\n",
              "      <td>74.0</td>\n",
              "      <td>Others</td>\n",
              "      <td>66.0</td>\n",
              "      <td>Others</td>\n",
              "      <td>Commerce</td>\n",
              "      <td>58.0</td>\n",
              "      <td>Comm&amp;Mgmt</td>\n",
              "      <td>No</td>\n",
              "      <td>70.0</td>\n",
              "      <td>Mkt&amp;HR</td>\n",
              "      <td>60.23</td>\n",
              "      <td>Placed</td>\n",
              "      <td>204000.0</td>\n",
              "    </tr>\n",
              "    <tr>\n",
              "      <th>214</th>\n",
              "      <td>215</td>\n",
              "      <td>M</td>\n",
              "      <td>62.0</td>\n",
              "      <td>Central</td>\n",
              "      <td>58.0</td>\n",
              "      <td>Others</td>\n",
              "      <td>Science</td>\n",
              "      <td>53.0</td>\n",
              "      <td>Comm&amp;Mgmt</td>\n",
              "      <td>No</td>\n",
              "      <td>89.0</td>\n",
              "      <td>Mkt&amp;HR</td>\n",
              "      <td>60.22</td>\n",
              "      <td>Not Placed</td>\n",
              "      <td>NaN</td>\n",
              "    </tr>\n",
              "  </tbody>\n",
              "</table>\n",
              "</div>\n",
              "      <button class=\"colab-df-convert\" onclick=\"convertToInteractive('df-d05570ba-583f-4e5d-99e9-2adb673aaabe')\"\n",
              "              title=\"Convert this dataframe to an interactive table.\"\n",
              "              style=\"display:none;\">\n",
              "        \n",
              "  <svg xmlns=\"http://www.w3.org/2000/svg\" height=\"24px\"viewBox=\"0 0 24 24\"\n",
              "       width=\"24px\">\n",
              "    <path d=\"M0 0h24v24H0V0z\" fill=\"none\"/>\n",
              "    <path d=\"M18.56 5.44l.94 2.06.94-2.06 2.06-.94-2.06-.94-.94-2.06-.94 2.06-2.06.94zm-11 1L8.5 8.5l.94-2.06 2.06-.94-2.06-.94L8.5 2.5l-.94 2.06-2.06.94zm10 10l.94 2.06.94-2.06 2.06-.94-2.06-.94-.94-2.06-.94 2.06-2.06.94z\"/><path d=\"M17.41 7.96l-1.37-1.37c-.4-.4-.92-.59-1.43-.59-.52 0-1.04.2-1.43.59L10.3 9.45l-7.72 7.72c-.78.78-.78 2.05 0 2.83L4 21.41c.39.39.9.59 1.41.59.51 0 1.02-.2 1.41-.59l7.78-7.78 2.81-2.81c.8-.78.8-2.07 0-2.86zM5.41 20L4 18.59l7.72-7.72 1.47 1.35L5.41 20z\"/>\n",
              "  </svg>\n",
              "      </button>\n",
              "      \n",
              "  <style>\n",
              "    .colab-df-container {\n",
              "      display:flex;\n",
              "      flex-wrap:wrap;\n",
              "      gap: 12px;\n",
              "    }\n",
              "\n",
              "    .colab-df-convert {\n",
              "      background-color: #E8F0FE;\n",
              "      border: none;\n",
              "      border-radius: 50%;\n",
              "      cursor: pointer;\n",
              "      display: none;\n",
              "      fill: #1967D2;\n",
              "      height: 32px;\n",
              "      padding: 0 0 0 0;\n",
              "      width: 32px;\n",
              "    }\n",
              "\n",
              "    .colab-df-convert:hover {\n",
              "      background-color: #E2EBFA;\n",
              "      box-shadow: 0px 1px 2px rgba(60, 64, 67, 0.3), 0px 1px 3px 1px rgba(60, 64, 67, 0.15);\n",
              "      fill: #174EA6;\n",
              "    }\n",
              "\n",
              "    [theme=dark] .colab-df-convert {\n",
              "      background-color: #3B4455;\n",
              "      fill: #D2E3FC;\n",
              "    }\n",
              "\n",
              "    [theme=dark] .colab-df-convert:hover {\n",
              "      background-color: #434B5C;\n",
              "      box-shadow: 0px 1px 3px 1px rgba(0, 0, 0, 0.15);\n",
              "      filter: drop-shadow(0px 1px 2px rgba(0, 0, 0, 0.3));\n",
              "      fill: #FFFFFF;\n",
              "    }\n",
              "  </style>\n",
              "\n",
              "      <script>\n",
              "        const buttonEl =\n",
              "          document.querySelector('#df-d05570ba-583f-4e5d-99e9-2adb673aaabe button.colab-df-convert');\n",
              "        buttonEl.style.display =\n",
              "          google.colab.kernel.accessAllowed ? 'block' : 'none';\n",
              "\n",
              "        async function convertToInteractive(key) {\n",
              "          const element = document.querySelector('#df-d05570ba-583f-4e5d-99e9-2adb673aaabe');\n",
              "          const dataTable =\n",
              "            await google.colab.kernel.invokeFunction('convertToInteractive',\n",
              "                                                     [key], {});\n",
              "          if (!dataTable) return;\n",
              "\n",
              "          const docLinkHtml = 'Like what you see? Visit the ' +\n",
              "            '<a target=\"_blank\" href=https://colab.research.google.com/notebooks/data_table.ipynb>data table notebook</a>'\n",
              "            + ' to learn more about interactive tables.';\n",
              "          element.innerHTML = '';\n",
              "          dataTable['output_type'] = 'display_data';\n",
              "          await google.colab.output.renderOutput(dataTable, element);\n",
              "          const docLink = document.createElement('div');\n",
              "          docLink.innerHTML = docLinkHtml;\n",
              "          element.appendChild(docLink);\n",
              "        }\n",
              "      </script>\n",
              "    </div>\n",
              "  </div>\n",
              "  "
            ]
          },
          "metadata": {},
          "execution_count": 4
        }
      ]
    },
    {
      "cell_type": "code",
      "source": [
        "df.info()"
      ],
      "metadata": {
        "colab": {
          "base_uri": "https://localhost:8080/"
        },
        "id": "2roQqOGKyE_m",
        "outputId": "9ed41802-bf86-4663-b867-c2c98e21c931"
      },
      "execution_count": 5,
      "outputs": [
        {
          "output_type": "stream",
          "name": "stdout",
          "text": [
            "<class 'pandas.core.frame.DataFrame'>\n",
            "RangeIndex: 215 entries, 0 to 214\n",
            "Data columns (total 15 columns):\n",
            " #   Column          Non-Null Count  Dtype  \n",
            "---  ------          --------------  -----  \n",
            " 0   sl_no           215 non-null    int64  \n",
            " 1   gender          215 non-null    object \n",
            " 2   ssc_p           215 non-null    float64\n",
            " 3   ssc_b           215 non-null    object \n",
            " 4   hsc_p           215 non-null    float64\n",
            " 5   hsc_b           215 non-null    object \n",
            " 6   hsc_s           215 non-null    object \n",
            " 7   degree_p        215 non-null    float64\n",
            " 8   degree_t        215 non-null    object \n",
            " 9   workex          215 non-null    object \n",
            " 10  etest_p         215 non-null    float64\n",
            " 11  specialisation  215 non-null    object \n",
            " 12  mba_p           215 non-null    float64\n",
            " 13  status          215 non-null    object \n",
            " 14  salary          148 non-null    float64\n",
            "dtypes: float64(6), int64(1), object(8)\n",
            "memory usage: 25.3+ KB\n"
          ]
        }
      ]
    },
    {
      "cell_type": "code",
      "source": [
        "df.shape"
      ],
      "metadata": {
        "colab": {
          "base_uri": "https://localhost:8080/"
        },
        "id": "OS9Zo_McyHdf",
        "outputId": "7c265364-94f1-40cb-e8df-2a6ff91ed752"
      },
      "execution_count": 6,
      "outputs": [
        {
          "output_type": "execute_result",
          "data": {
            "text/plain": [
              "(215, 15)"
            ]
          },
          "metadata": {},
          "execution_count": 6
        }
      ]
    },
    {
      "cell_type": "code",
      "source": [
        "X=df.drop('status',axis=1) \n",
        "y=df['status']"
      ],
      "metadata": {
        "id": "QXktG2-KyK5w"
      },
      "execution_count": 7,
      "outputs": []
    },
    {
      "cell_type": "code",
      "source": [
        "from sklearn.model_selection import train_test_split"
      ],
      "metadata": {
        "id": "h1qs-FVYyOMC"
      },
      "execution_count": 8,
      "outputs": []
    },
    {
      "cell_type": "code",
      "source": [
        "X_train,X_test,y_train,y_test=train_test_split(X,y,test_size=0.25,random_state=42) ## Train:Test = 75:25"
      ],
      "metadata": {
        "id": "ezKsJH6YyQpy"
      },
      "execution_count": 9,
      "outputs": []
    },
    {
      "cell_type": "code",
      "source": [
        "from catboost import CatBoostClassifier\n",
        "from sklearn.metrics import classification_report,accuracy_score,f1_score,plot_confusion_matrix"
      ],
      "metadata": {
        "id": "FWGNPyPqySw7"
      },
      "execution_count": 10,
      "outputs": []
    },
    {
      "cell_type": "code",
      "source": [
        "cat_feat=df.select_dtypes(include='object')\n",
        "print(cat_feat.columns)"
      ],
      "metadata": {
        "colab": {
          "base_uri": "https://localhost:8080/"
        },
        "id": "5ZILKIJ3yV-l",
        "outputId": "5cb83907-31f0-49a0-817d-5d687d4a964d"
      },
      "execution_count": 11,
      "outputs": [
        {
          "output_type": "stream",
          "name": "stdout",
          "text": [
            "Index(['gender', 'ssc_b', 'hsc_b', 'hsc_s', 'degree_t', 'workex',\n",
            "       'specialisation', 'status'],\n",
            "      dtype='object')\n"
          ]
        }
      ]
    },
    {
      "cell_type": "code",
      "source": [
        "cat_feat_cols=['gender', 'ssc_b', 'hsc_b', 'hsc_s', 'degree_t', 'workex','specialisation']"
      ],
      "metadata": {
        "id": "S8V4mmQeyXaW"
      },
      "execution_count": 12,
      "outputs": []
    },
    {
      "cell_type": "code",
      "source": [
        "#(CatBoostClassifier)"
      ],
      "metadata": {
        "id": "ehac_BmGybHX"
      },
      "execution_count": 13,
      "outputs": []
    },
    {
      "cell_type": "code",
      "source": [
        "model_cbc=CatBoostClassifier(iterations=100, random_state=42, eval_metric='Accuracy')"
      ],
      "metadata": {
        "id": "ZEc0kz2QydBo"
      },
      "execution_count": 14,
      "outputs": []
    },
    {
      "cell_type": "code",
      "source": [
        "model_fit=model_cbc.fit(X_train,y_train, cat_features=cat_feat_cols, plot=True, eval_set=(X_test,y_test))"
      ],
      "metadata": {
        "colab": {
          "base_uri": "https://localhost:8080/",
          "height": 1000,
          "referenced_widgets": [
            "3b946740969f4904a62d7d3a369eba45"
          ]
        },
        "id": "e9pQ2UORye15",
        "outputId": "f1ccb754-4cef-4d77-a92e-f163b80e9c47"
      },
      "execution_count": 15,
      "outputs": [
        {
          "output_type": "display_data",
          "data": {
            "text/plain": [
              "MetricVisualizer(layout=Layout(align_self='stretch', height='500px'))"
            ],
            "application/vnd.jupyter.widget-view+json": {
              "version_major": 2,
              "version_minor": 0,
              "model_id": "3b946740969f4904a62d7d3a369eba45"
            }
          },
          "metadata": {}
        },
        {
          "output_type": "stream",
          "name": "stdout",
          "text": [
            "Learning rate set to 0.054953\n",
            "0:\tlearn: 0.9627329\ttest: 0.9629630\tbest: 0.9629630 (0)\ttotal: 53.5ms\tremaining: 5.3s\n",
            "1:\tlearn: 0.9875776\ttest: 0.9814815\tbest: 0.9814815 (1)\ttotal: 63.5ms\tremaining: 3.11s\n",
            "2:\tlearn: 0.9813665\ttest: 0.9629630\tbest: 0.9814815 (1)\ttotal: 66ms\tremaining: 2.13s\n",
            "3:\tlearn: 0.9813665\ttest: 0.9629630\tbest: 0.9814815 (1)\ttotal: 71.4ms\tremaining: 1.71s\n",
            "4:\tlearn: 0.9875776\ttest: 0.9814815\tbest: 0.9814815 (1)\ttotal: 74.6ms\tremaining: 1.42s\n",
            "5:\tlearn: 0.9875776\ttest: 1.0000000\tbest: 1.0000000 (5)\ttotal: 79ms\tremaining: 1.24s\n",
            "6:\tlearn: 1.0000000\ttest: 1.0000000\tbest: 1.0000000 (5)\ttotal: 82.8ms\tremaining: 1.1s\n",
            "7:\tlearn: 1.0000000\ttest: 1.0000000\tbest: 1.0000000 (5)\ttotal: 88.7ms\tremaining: 1.02s\n",
            "8:\tlearn: 1.0000000\ttest: 1.0000000\tbest: 1.0000000 (5)\ttotal: 93.7ms\tremaining: 948ms\n",
            "9:\tlearn: 1.0000000\ttest: 1.0000000\tbest: 1.0000000 (5)\ttotal: 121ms\tremaining: 1.09s\n",
            "10:\tlearn: 1.0000000\ttest: 1.0000000\tbest: 1.0000000 (5)\ttotal: 122ms\tremaining: 989ms\n",
            "11:\tlearn: 1.0000000\ttest: 1.0000000\tbest: 1.0000000 (5)\ttotal: 132ms\tremaining: 970ms\n",
            "12:\tlearn: 1.0000000\ttest: 1.0000000\tbest: 1.0000000 (5)\ttotal: 135ms\tremaining: 907ms\n",
            "13:\tlearn: 1.0000000\ttest: 1.0000000\tbest: 1.0000000 (5)\ttotal: 142ms\tremaining: 870ms\n",
            "14:\tlearn: 1.0000000\ttest: 1.0000000\tbest: 1.0000000 (5)\ttotal: 148ms\tremaining: 837ms\n",
            "15:\tlearn: 1.0000000\ttest: 1.0000000\tbest: 1.0000000 (5)\ttotal: 151ms\tremaining: 795ms\n",
            "16:\tlearn: 1.0000000\ttest: 1.0000000\tbest: 1.0000000 (5)\ttotal: 159ms\tremaining: 776ms\n",
            "17:\tlearn: 1.0000000\ttest: 1.0000000\tbest: 1.0000000 (5)\ttotal: 160ms\tremaining: 730ms\n",
            "18:\tlearn: 1.0000000\ttest: 1.0000000\tbest: 1.0000000 (5)\ttotal: 166ms\tremaining: 707ms\n",
            "19:\tlearn: 1.0000000\ttest: 1.0000000\tbest: 1.0000000 (5)\ttotal: 173ms\tremaining: 692ms\n",
            "20:\tlearn: 1.0000000\ttest: 1.0000000\tbest: 1.0000000 (5)\ttotal: 177ms\tremaining: 667ms\n",
            "21:\tlearn: 1.0000000\ttest: 1.0000000\tbest: 1.0000000 (5)\ttotal: 185ms\tremaining: 657ms\n",
            "22:\tlearn: 1.0000000\ttest: 1.0000000\tbest: 1.0000000 (5)\ttotal: 189ms\tremaining: 632ms\n",
            "23:\tlearn: 1.0000000\ttest: 1.0000000\tbest: 1.0000000 (5)\ttotal: 192ms\tremaining: 607ms\n",
            "24:\tlearn: 1.0000000\ttest: 1.0000000\tbest: 1.0000000 (5)\ttotal: 204ms\tremaining: 611ms\n",
            "25:\tlearn: 1.0000000\ttest: 1.0000000\tbest: 1.0000000 (5)\ttotal: 205ms\tremaining: 584ms\n",
            "26:\tlearn: 1.0000000\ttest: 1.0000000\tbest: 1.0000000 (5)\ttotal: 210ms\tremaining: 567ms\n",
            "27:\tlearn: 1.0000000\ttest: 1.0000000\tbest: 1.0000000 (5)\ttotal: 217ms\tremaining: 558ms\n",
            "28:\tlearn: 1.0000000\ttest: 1.0000000\tbest: 1.0000000 (5)\ttotal: 218ms\tremaining: 534ms\n",
            "29:\tlearn: 1.0000000\ttest: 1.0000000\tbest: 1.0000000 (5)\ttotal: 222ms\tremaining: 518ms\n",
            "30:\tlearn: 1.0000000\ttest: 1.0000000\tbest: 1.0000000 (5)\ttotal: 224ms\tremaining: 499ms\n",
            "31:\tlearn: 1.0000000\ttest: 1.0000000\tbest: 1.0000000 (5)\ttotal: 231ms\tremaining: 491ms\n",
            "32:\tlearn: 1.0000000\ttest: 1.0000000\tbest: 1.0000000 (5)\ttotal: 234ms\tremaining: 476ms\n",
            "33:\tlearn: 1.0000000\ttest: 1.0000000\tbest: 1.0000000 (5)\ttotal: 241ms\tremaining: 468ms\n",
            "34:\tlearn: 1.0000000\ttest: 1.0000000\tbest: 1.0000000 (5)\ttotal: 250ms\tremaining: 464ms\n",
            "35:\tlearn: 1.0000000\ttest: 1.0000000\tbest: 1.0000000 (5)\ttotal: 260ms\tremaining: 462ms\n",
            "36:\tlearn: 1.0000000\ttest: 1.0000000\tbest: 1.0000000 (5)\ttotal: 261ms\tremaining: 445ms\n",
            "37:\tlearn: 1.0000000\ttest: 1.0000000\tbest: 1.0000000 (5)\ttotal: 268ms\tremaining: 437ms\n",
            "38:\tlearn: 1.0000000\ttest: 1.0000000\tbest: 1.0000000 (5)\ttotal: 269ms\tremaining: 421ms\n",
            "39:\tlearn: 1.0000000\ttest: 1.0000000\tbest: 1.0000000 (5)\ttotal: 276ms\tremaining: 414ms\n",
            "40:\tlearn: 1.0000000\ttest: 1.0000000\tbest: 1.0000000 (5)\ttotal: 280ms\tremaining: 403ms\n",
            "41:\tlearn: 1.0000000\ttest: 1.0000000\tbest: 1.0000000 (5)\ttotal: 284ms\tremaining: 392ms\n",
            "42:\tlearn: 1.0000000\ttest: 1.0000000\tbest: 1.0000000 (5)\ttotal: 288ms\tremaining: 382ms\n",
            "43:\tlearn: 1.0000000\ttest: 1.0000000\tbest: 1.0000000 (5)\ttotal: 290ms\tremaining: 369ms\n",
            "44:\tlearn: 1.0000000\ttest: 1.0000000\tbest: 1.0000000 (5)\ttotal: 295ms\tremaining: 361ms\n",
            "45:\tlearn: 1.0000000\ttest: 1.0000000\tbest: 1.0000000 (5)\ttotal: 299ms\tremaining: 351ms\n",
            "46:\tlearn: 1.0000000\ttest: 1.0000000\tbest: 1.0000000 (5)\ttotal: 303ms\tremaining: 342ms\n",
            "47:\tlearn: 1.0000000\ttest: 1.0000000\tbest: 1.0000000 (5)\ttotal: 307ms\tremaining: 333ms\n",
            "48:\tlearn: 1.0000000\ttest: 1.0000000\tbest: 1.0000000 (5)\ttotal: 309ms\tremaining: 322ms\n",
            "49:\tlearn: 1.0000000\ttest: 1.0000000\tbest: 1.0000000 (5)\ttotal: 311ms\tremaining: 311ms\n",
            "50:\tlearn: 1.0000000\ttest: 1.0000000\tbest: 1.0000000 (5)\ttotal: 315ms\tremaining: 303ms\n",
            "51:\tlearn: 1.0000000\ttest: 1.0000000\tbest: 1.0000000 (5)\ttotal: 320ms\tremaining: 295ms\n",
            "52:\tlearn: 1.0000000\ttest: 1.0000000\tbest: 1.0000000 (5)\ttotal: 324ms\tremaining: 288ms\n",
            "53:\tlearn: 1.0000000\ttest: 1.0000000\tbest: 1.0000000 (5)\ttotal: 327ms\tremaining: 278ms\n",
            "54:\tlearn: 1.0000000\ttest: 1.0000000\tbest: 1.0000000 (5)\ttotal: 334ms\tremaining: 273ms\n",
            "55:\tlearn: 1.0000000\ttest: 1.0000000\tbest: 1.0000000 (5)\ttotal: 338ms\tremaining: 265ms\n",
            "56:\tlearn: 1.0000000\ttest: 1.0000000\tbest: 1.0000000 (5)\ttotal: 340ms\tremaining: 256ms\n",
            "57:\tlearn: 1.0000000\ttest: 1.0000000\tbest: 1.0000000 (5)\ttotal: 346ms\tremaining: 251ms\n",
            "58:\tlearn: 1.0000000\ttest: 1.0000000\tbest: 1.0000000 (5)\ttotal: 349ms\tremaining: 243ms\n",
            "59:\tlearn: 1.0000000\ttest: 1.0000000\tbest: 1.0000000 (5)\ttotal: 358ms\tremaining: 239ms\n",
            "60:\tlearn: 1.0000000\ttest: 1.0000000\tbest: 1.0000000 (5)\ttotal: 360ms\tremaining: 230ms\n",
            "61:\tlearn: 1.0000000\ttest: 1.0000000\tbest: 1.0000000 (5)\ttotal: 368ms\tremaining: 226ms\n",
            "62:\tlearn: 1.0000000\ttest: 1.0000000\tbest: 1.0000000 (5)\ttotal: 370ms\tremaining: 217ms\n",
            "63:\tlearn: 1.0000000\ttest: 1.0000000\tbest: 1.0000000 (5)\ttotal: 376ms\tremaining: 211ms\n",
            "64:\tlearn: 1.0000000\ttest: 1.0000000\tbest: 1.0000000 (5)\ttotal: 378ms\tremaining: 203ms\n",
            "65:\tlearn: 1.0000000\ttest: 1.0000000\tbest: 1.0000000 (5)\ttotal: 386ms\tremaining: 199ms\n",
            "66:\tlearn: 1.0000000\ttest: 1.0000000\tbest: 1.0000000 (5)\ttotal: 393ms\tremaining: 194ms\n",
            "67:\tlearn: 1.0000000\ttest: 1.0000000\tbest: 1.0000000 (5)\ttotal: 400ms\tremaining: 188ms\n",
            "68:\tlearn: 1.0000000\ttest: 1.0000000\tbest: 1.0000000 (5)\ttotal: 403ms\tremaining: 181ms\n",
            "69:\tlearn: 1.0000000\ttest: 1.0000000\tbest: 1.0000000 (5)\ttotal: 405ms\tremaining: 174ms\n",
            "70:\tlearn: 1.0000000\ttest: 1.0000000\tbest: 1.0000000 (5)\ttotal: 408ms\tremaining: 167ms\n",
            "71:\tlearn: 1.0000000\ttest: 1.0000000\tbest: 1.0000000 (5)\ttotal: 413ms\tremaining: 160ms\n",
            "72:\tlearn: 1.0000000\ttest: 1.0000000\tbest: 1.0000000 (5)\ttotal: 423ms\tremaining: 157ms\n",
            "73:\tlearn: 1.0000000\ttest: 1.0000000\tbest: 1.0000000 (5)\ttotal: 426ms\tremaining: 150ms\n",
            "74:\tlearn: 1.0000000\ttest: 1.0000000\tbest: 1.0000000 (5)\ttotal: 434ms\tremaining: 145ms\n",
            "75:\tlearn: 1.0000000\ttest: 1.0000000\tbest: 1.0000000 (5)\ttotal: 439ms\tremaining: 139ms\n",
            "76:\tlearn: 1.0000000\ttest: 1.0000000\tbest: 1.0000000 (5)\ttotal: 444ms\tremaining: 133ms\n",
            "77:\tlearn: 1.0000000\ttest: 1.0000000\tbest: 1.0000000 (5)\ttotal: 445ms\tremaining: 126ms\n",
            "78:\tlearn: 1.0000000\ttest: 1.0000000\tbest: 1.0000000 (5)\ttotal: 449ms\tremaining: 119ms\n",
            "79:\tlearn: 1.0000000\ttest: 1.0000000\tbest: 1.0000000 (5)\ttotal: 450ms\tremaining: 113ms\n",
            "80:\tlearn: 1.0000000\ttest: 1.0000000\tbest: 1.0000000 (5)\ttotal: 453ms\tremaining: 106ms\n",
            "81:\tlearn: 1.0000000\ttest: 1.0000000\tbest: 1.0000000 (5)\ttotal: 458ms\tremaining: 101ms\n",
            "82:\tlearn: 1.0000000\ttest: 1.0000000\tbest: 1.0000000 (5)\ttotal: 461ms\tremaining: 94.4ms\n",
            "83:\tlearn: 1.0000000\ttest: 1.0000000\tbest: 1.0000000 (5)\ttotal: 463ms\tremaining: 88.2ms\n",
            "84:\tlearn: 1.0000000\ttest: 1.0000000\tbest: 1.0000000 (5)\ttotal: 466ms\tremaining: 82.3ms\n",
            "85:\tlearn: 1.0000000\ttest: 1.0000000\tbest: 1.0000000 (5)\ttotal: 468ms\tremaining: 76.2ms\n",
            "86:\tlearn: 1.0000000\ttest: 1.0000000\tbest: 1.0000000 (5)\ttotal: 472ms\tremaining: 70.6ms\n",
            "87:\tlearn: 1.0000000\ttest: 1.0000000\tbest: 1.0000000 (5)\ttotal: 476ms\tremaining: 64.8ms\n",
            "88:\tlearn: 1.0000000\ttest: 1.0000000\tbest: 1.0000000 (5)\ttotal: 481ms\tremaining: 59.4ms\n",
            "89:\tlearn: 1.0000000\ttest: 1.0000000\tbest: 1.0000000 (5)\ttotal: 482ms\tremaining: 53.6ms\n",
            "90:\tlearn: 1.0000000\ttest: 1.0000000\tbest: 1.0000000 (5)\ttotal: 484ms\tremaining: 47.9ms\n",
            "91:\tlearn: 1.0000000\ttest: 1.0000000\tbest: 1.0000000 (5)\ttotal: 487ms\tremaining: 42.3ms\n",
            "92:\tlearn: 1.0000000\ttest: 1.0000000\tbest: 1.0000000 (5)\ttotal: 488ms\tremaining: 36.8ms\n",
            "93:\tlearn: 1.0000000\ttest: 1.0000000\tbest: 1.0000000 (5)\ttotal: 489ms\tremaining: 31.2ms\n",
            "94:\tlearn: 1.0000000\ttest: 1.0000000\tbest: 1.0000000 (5)\ttotal: 490ms\tremaining: 25.8ms\n",
            "95:\tlearn: 1.0000000\ttest: 1.0000000\tbest: 1.0000000 (5)\ttotal: 492ms\tremaining: 20.5ms\n",
            "96:\tlearn: 1.0000000\ttest: 1.0000000\tbest: 1.0000000 (5)\ttotal: 493ms\tremaining: 15.2ms\n",
            "97:\tlearn: 1.0000000\ttest: 1.0000000\tbest: 1.0000000 (5)\ttotal: 494ms\tremaining: 10.1ms\n",
            "98:\tlearn: 1.0000000\ttest: 1.0000000\tbest: 1.0000000 (5)\ttotal: 496ms\tremaining: 5.01ms\n",
            "99:\tlearn: 1.0000000\ttest: 1.0000000\tbest: 1.0000000 (5)\ttotal: 498ms\tremaining: 0us\n",
            "\n",
            "bestTest = 1\n",
            "bestIteration = 5\n",
            "\n",
            "Shrink model to first 6 iterations.\n"
          ]
        }
      ]
    },
    {
      "cell_type": "code",
      "source": [
        "from google.colab import output\n",
        "output.enable_custom_widget_manager()"
      ],
      "metadata": {
        "id": "KlCwe2y-yiWd"
      },
      "execution_count": 18,
      "outputs": []
    },
    {
      "cell_type": "code",
      "source": [
        "from google.colab import output\n",
        "output.disable_custom_widget_manager()"
      ],
      "metadata": {
        "id": "-zOJDrXCyiWd"
      },
      "execution_count": 22,
      "outputs": []
    },
    {
      "cell_type": "code",
      "source": [
        "y_pred=model_fit.predict(X_test)"
      ],
      "metadata": {
        "id": "Exeq7g_IymKb"
      },
      "execution_count": 19,
      "outputs": []
    },
    {
      "cell_type": "code",
      "source": [
        "plot_confusion_matrix(model_fit,X_test,y_test)"
      ],
      "metadata": {
        "colab": {
          "base_uri": "https://localhost:8080/",
          "height": 355
        },
        "id": "PxI4VZ40yswA",
        "outputId": "7e66f8c5-c5b7-4ae3-ee0e-55fe7ba35206"
      },
      "execution_count": 20,
      "outputs": [
        {
          "output_type": "stream",
          "name": "stderr",
          "text": [
            "/usr/local/lib/python3.8/dist-packages/sklearn/utils/deprecation.py:87: FutureWarning: Function plot_confusion_matrix is deprecated; Function `plot_confusion_matrix` is deprecated in 1.0 and will be removed in 1.2. Use one of the class methods: ConfusionMatrixDisplay.from_predictions or ConfusionMatrixDisplay.from_estimator.\n",
            "  warnings.warn(msg, category=FutureWarning)\n"
          ]
        },
        {
          "output_type": "execute_result",
          "data": {
            "text/plain": [
              "<sklearn.metrics._plot.confusion_matrix.ConfusionMatrixDisplay at 0x7f5f41789520>"
            ]
          },
          "metadata": {},
          "execution_count": 20
        },
        {
          "output_type": "display_data",
          "data": {
            "text/plain": [
              "<Figure size 432x288 with 2 Axes>"
            ],
            "image/png": "[encoded data removed]"
          },
          "metadata": {
            "needs_background": "light"
          }
        }
      ]
    },
    {
      "cell_type": "code",
      "source": [
        "print(classification_report(y_test,y_pred))"
      ],
      "metadata": {
        "colab": {
          "base_uri": "https://localhost:8080/"
        },
        "id": "-JCRxi4Gyvcn",
        "outputId": "2f1db743-fca1-488c-93ef-0405061983cf"
      },
      "execution_count": 21,
      "outputs": [
        {
          "output_type": "stream",
          "name": "stdout",
          "text": [
            "              precision    recall  f1-score   support\n",
            "\n",
            "  Not Placed       1.00      1.00      1.00        14\n",
            "      Placed       1.00      1.00      1.00        40\n",
            "\n",
            "    accuracy                           1.00        54\n",
            "   macro avg       1.00      1.00      1.00        54\n",
            "weighted avg       1.00      1.00      1.00        54\n",
            "\n"
          ]
        }
      ]
    },
    {
      "cell_type": "code",
      "source": [],
      "metadata": {
        "id": "X_yjEi73yyIi"
      },
      "execution_count": null,
      "outputs": []
    }
  ]
}